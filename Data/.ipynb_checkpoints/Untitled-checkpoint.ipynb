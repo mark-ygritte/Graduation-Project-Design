{
 "cells": [
  {
   "cell_type": "code",
   "execution_count": 1,
   "metadata": {},
   "outputs": [],
   "source": [
    "# -*- coding: utf-8 -*-\n",
    "import numpy as np\n",
    "from sklearn.naive_bayes import MultinomialNB\n"
   ]
  },
  {
   "cell_type": "code",
   "execution_count": 164,
   "metadata": {},
   "outputs": [],
   "source": [
    "for i in range(20):\n",
    "    with open('./forms/car_{}.txt'.format(i), 'r') as f:\n",
    "        car_info = f.read().replace('.', ',').replace(']', '],')\n",
    "        car_info = eval(car_info)[0]\n",
    "        f.close()\n",
    "\n",
    "    with open('./forms/car_{}_training.txt'.format(i), 'r') as f:\n",
    "        training_data = eval(f.read())\n",
    "        f.close()"
   ]
  },
  {
   "cell_type": "code",
   "execution_count": 217,
   "metadata": {},
   "outputs": [],
   "source": [
    "classifiers = {\n",
    "    0: [],\n",
    "    1: [],\n",
    "    2: [],\n",
    "    3: [],\n",
    "    4: [],\n",
    "    5: [],\n",
    "    6: [],\n",
    "    7: [],\n",
    "    8: []\n",
    "}"
   ]
  },
  {
   "cell_type": "code",
   "execution_count": 218,
   "metadata": {},
   "outputs": [],
   "source": [
    "threat_num = {\n",
    "    0: 7,\n",
    "    1: 6,\n",
    "    2: 3,\n",
    "    3: 3,\n",
    "    4: 5,\n",
    "    5: 10,\n",
    "    6: 17,\n",
    "    7: 7,\n",
    "    8: 6\n",
    "}"
   ]
  },
  {
   "cell_type": "code",
   "execution_count": 221,
   "metadata": {},
   "outputs": [],
   "source": [
    "def create_classifiers(a, b):\n",
    "    \n",
    "    X = []\n",
    "    y = []\n",
    "    for i in range(20):\n",
    "        with open('./forms/car_{}.txt'.format(i), 'r') as f:\n",
    "            car_info = f.read().replace('.', ',').replace(']', '],')\n",
    "            car_info = eval(car_info)[0]\n",
    "            f.close()\n",
    "\n",
    "        with open('./forms/car_{}_training.txt'.format(i), 'r') as f:\n",
    "            training_data = eval(f.read())\n",
    "            f.close()\n",
    "\n",
    "        car_X = []\n",
    "        for car_item in car_info:\n",
    "            car_X.append(car_item[a])\n",
    "\n",
    "\n",
    "        car_y = []\n",
    "        for training_data_item in training_data:\n",
    "            if(training_data_item[0] == a and training_data_item[1] == b):\n",
    "                car_y = training_data_item[2]\n",
    "\n",
    "        threat_num = len(car_y)\n",
    "\n",
    "        for j in range(threat_num):\n",
    "            X.append(car_X)\n",
    "\n",
    "        y += car_y\n",
    "        \n",
    "    clf = MultinomialNB()\n",
    "    clf.fit(X, y)\n",
    "    MultinomialNB(alpha=1.0, class_prior=None, fit_prior=True)\n",
    "    \n",
    "    classifiers[a].append(clf)"
   ]
  },
  {
   "cell_type": "code",
   "execution_count": 222,
   "metadata": {},
   "outputs": [],
   "source": [
    "for m in threat_num:\n",
    "    for n in range(threat_num[m]):\n",
    "        create_classifiers(m, n)"
   ]
  },
  {
   "cell_type": "code",
   "execution_count": 226,
   "metadata": {},
   "outputs": [
    {
     "name": "stdout",
     "output_type": "stream",
     "text": [
      "7\n",
      "6\n",
      "3\n",
      "3\n",
      "5\n",
      "10\n",
      "17\n",
      "7\n",
      "6\n"
     ]
    }
   ],
   "source": [
    "for i in classifiers:\n",
    "    print(len(classifiers[i]))"
   ]
  }
 ],
 "metadata": {
  "kernelspec": {
   "display_name": "Python 3",
   "language": "python",
   "name": "python3"
  },
  "language_info": {
   "codemirror_mode": {
    "name": "ipython",
    "version": 3
   },
   "file_extension": ".py",
   "mimetype": "text/x-python",
   "name": "python",
   "nbconvert_exporter": "python",
   "pygments_lexer": "ipython3",
   "version": "3.7.3"
  }
 },
 "nbformat": 4,
 "nbformat_minor": 2
}
